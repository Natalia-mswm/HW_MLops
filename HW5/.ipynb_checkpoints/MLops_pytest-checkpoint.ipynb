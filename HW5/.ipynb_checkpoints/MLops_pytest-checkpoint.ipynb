{
 "cells": [
  {
   "cell_type": "code",
   "execution_count": 76,
   "id": "3b7792bc-23e0-482a-8943-25e2b260bf3f",
   "metadata": {},
   "outputs": [
    {
     "name": "stdout",
     "output_type": "stream",
     "text": [
      "Requirement already satisfied: ipytest in c:\\users\\natalia\\anaconda3\\lib\\site-packages (0.14.2)\n",
      "Requirement already satisfied: ipython in c:\\users\\natalia\\appdata\\roaming\\python\\python311\\site-packages (from ipytest) (8.15.0)\n",
      "Requirement already satisfied: packaging in c:\\users\\natalia\\anaconda3\\lib\\site-packages (from ipytest) (23.1)\n",
      "Requirement already satisfied: pytest>=5.4 in c:\\users\\natalia\\anaconda3\\lib\\site-packages (from ipytest) (7.4.0)\n",
      "Requirement already satisfied: iniconfig in c:\\users\\natalia\\anaconda3\\lib\\site-packages (from pytest>=5.4->ipytest) (1.1.1)\n",
      "Requirement already satisfied: pluggy<2.0,>=0.12 in c:\\users\\natalia\\anaconda3\\lib\\site-packages (from pytest>=5.4->ipytest) (1.0.0)\n",
      "Requirement already satisfied: colorama in c:\\users\\natalia\\appdata\\roaming\\python\\python311\\site-packages (from pytest>=5.4->ipytest) (0.4.6)\n",
      "Requirement already satisfied: backcall in c:\\users\\natalia\\appdata\\roaming\\python\\python311\\site-packages (from ipython->ipytest) (0.2.0)\n",
      "Requirement already satisfied: decorator in c:\\users\\natalia\\appdata\\roaming\\python\\python311\\site-packages (from ipython->ipytest) (5.1.1)\n",
      "Requirement already satisfied: jedi>=0.16 in c:\\users\\natalia\\appdata\\roaming\\python\\python311\\site-packages (from ipython->ipytest) (0.19.0)\n",
      "Requirement already satisfied: matplotlib-inline in c:\\users\\natalia\\appdata\\roaming\\python\\python311\\site-packages (from ipython->ipytest) (0.1.6)\n",
      "Requirement already satisfied: pickleshare in c:\\users\\natalia\\appdata\\roaming\\python\\python311\\site-packages (from ipython->ipytest) (0.7.5)\n",
      "Requirement already satisfied: prompt-toolkit!=3.0.37,<3.1.0,>=3.0.30 in c:\\users\\natalia\\appdata\\roaming\\python\\python311\\site-packages (from ipython->ipytest) (3.0.39)\n",
      "Requirement already satisfied: pygments>=2.4.0 in c:\\users\\natalia\\appdata\\roaming\\python\\python311\\site-packages (from ipython->ipytest) (2.16.1)\n",
      "Requirement already satisfied: stack-data in c:\\users\\natalia\\appdata\\roaming\\python\\python311\\site-packages (from ipython->ipytest) (0.6.2)\n",
      "Requirement already satisfied: traitlets>=5 in c:\\users\\natalia\\anaconda3\\lib\\site-packages (from ipython->ipytest) (5.7.1)\n",
      "Requirement already satisfied: parso<0.9.0,>=0.8.3 in c:\\users\\natalia\\appdata\\roaming\\python\\python311\\site-packages (from jedi>=0.16->ipython->ipytest) (0.8.3)\n",
      "Requirement already satisfied: wcwidth in c:\\users\\natalia\\appdata\\roaming\\python\\python311\\site-packages (from prompt-toolkit!=3.0.37,<3.1.0,>=3.0.30->ipython->ipytest) (0.2.6)\n",
      "Requirement already satisfied: executing>=1.2.0 in c:\\users\\natalia\\appdata\\roaming\\python\\python311\\site-packages (from stack-data->ipython->ipytest) (1.2.0)\n",
      "Requirement already satisfied: asttokens>=2.1.0 in c:\\users\\natalia\\appdata\\roaming\\python\\python311\\site-packages (from stack-data->ipython->ipytest) (2.4.0)\n",
      "Requirement already satisfied: pure-eval in c:\\users\\natalia\\appdata\\roaming\\python\\python311\\site-packages (from stack-data->ipython->ipytest) (0.2.2)\n",
      "Requirement already satisfied: six>=1.12.0 in c:\\users\\natalia\\appdata\\roaming\\python\\python311\\site-packages (from asttokens>=2.1.0->stack-data->ipython->ipytest) (1.16.0)\n"
     ]
    }
   ],
   "source": [
    "# установка pytest\n",
    "!pip install ipytest "
   ]
  },
  {
   "cell_type": "code",
   "execution_count": 77,
   "id": "56ef6c92-1e0c-4305-b8e0-4db65141ee5d",
   "metadata": {},
   "outputs": [],
   "source": [
    "import numpy as np # для работы с числовыми данными\n",
    "import pandas as pd # pandas для работы с данными\n",
    "import os # Для работы с файловой системой\n",
    "from sklearn.linear_model import LinearRegression # LinearRegression из sklearn.linear_model для создания модели линейной регрессии\n",
    "from sklearn.utils import shuffle # Для перемешивания данны\n",
    "from sklearn.model_selection import train_test_split # для разбиения на тестовую и обучающую выборки\n",
    "from sklearn.metrics import mean_squared_error, mean_absolute_error, r2_score # Метрики\n",
    "import ipytest #импорт установленной ранее библиотеки"
   ]
  },
  {
   "cell_type": "code",
   "execution_count": 78,
   "id": "0efd5e15-7f8a-4a56-a03d-3b94be2595c4",
   "metadata": {},
   "outputs": [],
   "source": [
    "# Генерация данных без аномалий и шумов\n",
    "def generate_normal_data(base, x):\n",
    "    # base - базовое значение, например значение t; x -  количество измерений\n",
    "    return np.array([int(base) + int(np.random.randint(25)) for i in np.random.rand(x)]) "
   ]
  },
  {
   "cell_type": "code",
   "execution_count": 79,
   "id": "b30cbbdf-ccce-47b9-b524-0b1d81d909f6",
   "metadata": {},
   "outputs": [],
   "source": [
    "# Генерация данных с шумами\n",
    "def generate_noise_data(base, x):\n",
    "    noise_data = generate_normal_data(base, x)\n",
    "    noise = np.random.randint(1, 100, len(noise_data))\n",
    "    noise_data = noise_data + noise\n",
    "    return noise_data"
   ]
  },
  {
   "cell_type": "code",
   "execution_count": 80,
   "id": "e81990cd-6a29-4551-a6b7-fb5139d8099b",
   "metadata": {},
   "outputs": [],
   "source": [
    "# Генерация случайных признаков\n",
    "base = 20\n",
    "n = 100 # количество образцов(строк)\n",
    "data = {\n",
    "    'Feature_1': generate_normal_data(base, n),\n",
    "    'Target': generate_normal_data(base, n) + 5   # Целевая переменная\n",
    "}\n",
    "noise_data = {\n",
    "    'Feature_1': generate_noise_data(base, n),\n",
    "    'Target': generate_noise_data(base, n)\n",
    "}\n",
    "# Создание DataFrame\n",
    "df1 = pd.DataFrame(data)\n",
    "df2 = pd.DataFrame(data)\n",
    "df3 = pd.DataFrame(data)\n",
    "\n",
    "df_noise = pd.DataFrame(noise_data)\n"
   ]
  },
  {
   "cell_type": "code",
   "execution_count": 81,
   "id": "7ccf08a1-c8b8-482f-b38c-acefacc3685e",
   "metadata": {},
   "outputs": [
    {
     "data": {
      "text/html": [
       "<div>\n",
       "<style scoped>\n",
       "    .dataframe tbody tr th:only-of-type {\n",
       "        vertical-align: middle;\n",
       "    }\n",
       "\n",
       "    .dataframe tbody tr th {\n",
       "        vertical-align: top;\n",
       "    }\n",
       "\n",
       "    .dataframe thead th {\n",
       "        text-align: right;\n",
       "    }\n",
       "</style>\n",
       "<table border=\"1\" class=\"dataframe\">\n",
       "  <thead>\n",
       "    <tr style=\"text-align: right;\">\n",
       "      <th></th>\n",
       "      <th>Feature_1</th>\n",
       "      <th>Target</th>\n",
       "    </tr>\n",
       "  </thead>\n",
       "  <tbody>\n",
       "    <tr>\n",
       "      <th>0</th>\n",
       "      <td>35</td>\n",
       "      <td>32</td>\n",
       "    </tr>\n",
       "    <tr>\n",
       "      <th>1</th>\n",
       "      <td>39</td>\n",
       "      <td>49</td>\n",
       "    </tr>\n",
       "    <tr>\n",
       "      <th>2</th>\n",
       "      <td>39</td>\n",
       "      <td>38</td>\n",
       "    </tr>\n",
       "    <tr>\n",
       "      <th>3</th>\n",
       "      <td>33</td>\n",
       "      <td>44</td>\n",
       "    </tr>\n",
       "    <tr>\n",
       "      <th>4</th>\n",
       "      <td>39</td>\n",
       "      <td>34</td>\n",
       "    </tr>\n",
       "  </tbody>\n",
       "</table>\n",
       "</div>"
      ],
      "text/plain": [
       "   Feature_1  Target\n",
       "0         35      32\n",
       "1         39      49\n",
       "2         39      38\n",
       "3         33      44\n",
       "4         39      34"
      ]
     },
     "execution_count": 81,
     "metadata": {},
     "output_type": "execute_result"
    }
   ],
   "source": [
    "# Показать первые несколько строк одного из DataFrame с нормальными данными\n",
    "df1.head()"
   ]
  },
  {
   "cell_type": "code",
   "execution_count": 82,
   "id": "a1dac372-8209-4c3f-ac81-017537ca67f2",
   "metadata": {},
   "outputs": [
    {
     "data": {
      "text/html": [
       "<div>\n",
       "<style scoped>\n",
       "    .dataframe tbody tr th:only-of-type {\n",
       "        vertical-align: middle;\n",
       "    }\n",
       "\n",
       "    .dataframe tbody tr th {\n",
       "        vertical-align: top;\n",
       "    }\n",
       "\n",
       "    .dataframe thead th {\n",
       "        text-align: right;\n",
       "    }\n",
       "</style>\n",
       "<table border=\"1\" class=\"dataframe\">\n",
       "  <thead>\n",
       "    <tr style=\"text-align: right;\">\n",
       "      <th></th>\n",
       "      <th>Feature_1</th>\n",
       "      <th>Target</th>\n",
       "    </tr>\n",
       "  </thead>\n",
       "  <tbody>\n",
       "    <tr>\n",
       "      <th>0</th>\n",
       "      <td>118</td>\n",
       "      <td>24</td>\n",
       "    </tr>\n",
       "    <tr>\n",
       "      <th>1</th>\n",
       "      <td>44</td>\n",
       "      <td>119</td>\n",
       "    </tr>\n",
       "    <tr>\n",
       "      <th>2</th>\n",
       "      <td>34</td>\n",
       "      <td>113</td>\n",
       "    </tr>\n",
       "    <tr>\n",
       "      <th>3</th>\n",
       "      <td>44</td>\n",
       "      <td>31</td>\n",
       "    </tr>\n",
       "    <tr>\n",
       "      <th>4</th>\n",
       "      <td>39</td>\n",
       "      <td>127</td>\n",
       "    </tr>\n",
       "  </tbody>\n",
       "</table>\n",
       "</div>"
      ],
      "text/plain": [
       "   Feature_1  Target\n",
       "0        118      24\n",
       "1         44     119\n",
       "2         34     113\n",
       "3         44      31\n",
       "4         39     127"
      ]
     },
     "execution_count": 82,
     "metadata": {},
     "output_type": "execute_result"
    }
   ],
   "source": [
    "df_noise.head() # посмотрим на первые 5 строк датасета с шумами"
   ]
  },
  {
   "cell_type": "code",
   "execution_count": 116,
   "id": "3188e9eb-d659-487b-a8a1-4c2370be8efa",
   "metadata": {},
   "outputs": [],
   "source": [
    "# Разделение данных на обучающую и тестовую выборку\n",
    "X = df1.drop('Target', axis=1)\n",
    "y = df1['Target']\n",
    "X_train, X_test, y_train, y_test = train_test_split(X, y, test_size=0.2, random_state=58)\n"
   ]
  },
  {
   "cell_type": "code",
   "execution_count": 155,
   "id": "5a681b99-b5c7-4b7a-ba8c-a97721ad7266",
   "metadata": {},
   "outputs": [
    {
     "data": {
      "text/html": [
       "<style>#sk-container-id-6 {color: black;background-color: white;}#sk-container-id-6 pre{padding: 0;}#sk-container-id-6 div.sk-toggleable {background-color: white;}#sk-container-id-6 label.sk-toggleable__label {cursor: pointer;display: block;width: 100%;margin-bottom: 0;padding: 0.3em;box-sizing: border-box;text-align: center;}#sk-container-id-6 label.sk-toggleable__label-arrow:before {content: \"▸\";float: left;margin-right: 0.25em;color: #696969;}#sk-container-id-6 label.sk-toggleable__label-arrow:hover:before {color: black;}#sk-container-id-6 div.sk-estimator:hover label.sk-toggleable__label-arrow:before {color: black;}#sk-container-id-6 div.sk-toggleable__content {max-height: 0;max-width: 0;overflow: hidden;text-align: left;background-color: #f0f8ff;}#sk-container-id-6 div.sk-toggleable__content pre {margin: 0.2em;color: black;border-radius: 0.25em;background-color: #f0f8ff;}#sk-container-id-6 input.sk-toggleable__control:checked~div.sk-toggleable__content {max-height: 200px;max-width: 100%;overflow: auto;}#sk-container-id-6 input.sk-toggleable__control:checked~label.sk-toggleable__label-arrow:before {content: \"▾\";}#sk-container-id-6 div.sk-estimator input.sk-toggleable__control:checked~label.sk-toggleable__label {background-color: #d4ebff;}#sk-container-id-6 div.sk-label input.sk-toggleable__control:checked~label.sk-toggleable__label {background-color: #d4ebff;}#sk-container-id-6 input.sk-hidden--visually {border: 0;clip: rect(1px 1px 1px 1px);clip: rect(1px, 1px, 1px, 1px);height: 1px;margin: -1px;overflow: hidden;padding: 0;position: absolute;width: 1px;}#sk-container-id-6 div.sk-estimator {font-family: monospace;background-color: #f0f8ff;border: 1px dotted black;border-radius: 0.25em;box-sizing: border-box;margin-bottom: 0.5em;}#sk-container-id-6 div.sk-estimator:hover {background-color: #d4ebff;}#sk-container-id-6 div.sk-parallel-item::after {content: \"\";width: 100%;border-bottom: 1px solid gray;flex-grow: 1;}#sk-container-id-6 div.sk-label:hover label.sk-toggleable__label {background-color: #d4ebff;}#sk-container-id-6 div.sk-serial::before {content: \"\";position: absolute;border-left: 1px solid gray;box-sizing: border-box;top: 0;bottom: 0;left: 50%;z-index: 0;}#sk-container-id-6 div.sk-serial {display: flex;flex-direction: column;align-items: center;background-color: white;padding-right: 0.2em;padding-left: 0.2em;position: relative;}#sk-container-id-6 div.sk-item {position: relative;z-index: 1;}#sk-container-id-6 div.sk-parallel {display: flex;align-items: stretch;justify-content: center;background-color: white;position: relative;}#sk-container-id-6 div.sk-item::before, #sk-container-id-6 div.sk-parallel-item::before {content: \"\";position: absolute;border-left: 1px solid gray;box-sizing: border-box;top: 0;bottom: 0;left: 50%;z-index: -1;}#sk-container-id-6 div.sk-parallel-item {display: flex;flex-direction: column;z-index: 1;position: relative;background-color: white;}#sk-container-id-6 div.sk-parallel-item:first-child::after {align-self: flex-end;width: 50%;}#sk-container-id-6 div.sk-parallel-item:last-child::after {align-self: flex-start;width: 50%;}#sk-container-id-6 div.sk-parallel-item:only-child::after {width: 0;}#sk-container-id-6 div.sk-dashed-wrapped {border: 1px dashed gray;margin: 0 0.4em 0.5em 0.4em;box-sizing: border-box;padding-bottom: 0.4em;background-color: white;}#sk-container-id-6 div.sk-label label {font-family: monospace;font-weight: bold;display: inline-block;line-height: 1.2em;}#sk-container-id-6 div.sk-label-container {text-align: center;}#sk-container-id-6 div.sk-container {/* jupyter's `normalize.less` sets `[hidden] { display: none; }` but bootstrap.min.css set `[hidden] { display: none !important; }` so we also need the `!important` here to be able to override the default hidden behavior on the sphinx rendered scikit-learn.org. See: https://github.com/scikit-learn/scikit-learn/issues/21755 */display: inline-block !important;position: relative;}#sk-container-id-6 div.sk-text-repr-fallback {display: none;}</style><div id=\"sk-container-id-6\" class=\"sk-top-container\"><div class=\"sk-text-repr-fallback\"><pre>LinearRegression()</pre><b>In a Jupyter environment, please rerun this cell to show the HTML representation or trust the notebook. <br />On GitHub, the HTML representation is unable to render, please try loading this page with nbviewer.org.</b></div><div class=\"sk-container\" hidden><div class=\"sk-item\"><div class=\"sk-estimator sk-toggleable\"><input class=\"sk-toggleable__control sk-hidden--visually\" id=\"sk-estimator-id-6\" type=\"checkbox\" checked><label for=\"sk-estimator-id-6\" class=\"sk-toggleable__label sk-toggleable__label-arrow\">LinearRegression</label><div class=\"sk-toggleable__content\"><pre>LinearRegression()</pre></div></div></div></div></div>"
      ],
      "text/plain": [
       "LinearRegression()"
      ]
     },
     "execution_count": 155,
     "metadata": {},
     "output_type": "execute_result"
    }
   ],
   "source": [
    "# Обучение модели линейной регрессии (как и указано в задании на  одном из датасетов)\n",
    "model = LinearRegression()\n",
    "model.fit(X_train, y_train)"
   ]
  },
  {
   "cell_type": "code",
   "execution_count": 118,
   "id": "41e961b5-bfa8-44e1-934c-c665ffc8f418",
   "metadata": {},
   "outputs": [
    {
     "data": {
      "text/plain": [
       "array([37.23290877, 37.56882221, 36.98860809, 37.59935979, 36.98860809,\n",
       "       37.29398394, 37.53828462, 37.56882221, 37.59935979, 37.14129601,\n",
       "       37.35505911, 37.47720945, 37.1718336 , 37.23290877, 37.32452153,\n",
       "       37.04968326, 37.11075843, 37.72151013, 37.72151013, 37.08022084])"
      ]
     },
     "execution_count": 118,
     "metadata": {},
     "output_type": "execute_result"
    }
   ],
   "source": [
    "# Оценка модели на тестовой выборке\n",
    "prediction = model.predict(X_test)\n",
    "\n",
    "prediction\n"
   ]
  },
  {
   "cell_type": "code",
   "execution_count": 119,
   "id": "6a5f3390-02ed-4a90-adbc-acb4b505a710",
   "metadata": {},
   "outputs": [
    {
     "name": "stdout",
     "output_type": "stream",
     "text": [
      "47.438024575384354 6.03739727777703 -0.030645257191556086 6.887526738632987\n"
     ]
    }
   ],
   "source": [
    "# Расчет метрик\n",
    "mse = mean_squared_error(y_test, prediction) # Среднеквадратичная ошибка, показывает, насколько хорошо предсказаны значения, но не учитывает размер ошибки\n",
    "mae = mean_absolute_error(y_test, prediction) # Средняя абсолютная ошибка (более чувствительна к выбросам)\n",
    "r2 = r2_score(y_test, prediction) # коэффициент детерминации показывает, какая доля дисперсии зависимой переменной объясняется моделью\n",
    "rmse = np.sqrt(mse) # кв корень из MSE, более интерпретируемый, поскольку он выражается в тех же единицах, что и таргет\n",
    "print(mse, mae, r2, rmse)"
   ]
  },
  {
   "cell_type": "code",
   "execution_count": 120,
   "id": "7ace7936-4afd-42b1-a6cb-96c13ecbfe09",
   "metadata": {},
   "outputs": [
    {
     "data": {
      "text/plain": [
       "array([37.69097255, 37.1718336 , 37.01914567, 37.01914567, 37.11075843,\n",
       "       37.56882221, 37.59935979, 37.08022084, 37.59935979, 37.53828462,\n",
       "       37.35505911, 37.23290877, 37.59935979, 37.32452153, 37.23290877,\n",
       "       37.41613428, 37.14129601, 37.29398394, 37.44667187, 37.50774704])"
      ]
     },
     "execution_count": 120,
     "metadata": {},
     "output_type": "execute_result"
    }
   ],
   "source": [
    "# Разделение второго на обучающую и тестовую выборку\n",
    "X2 = df2.drop('Target', axis=1)\n",
    "y2 = df2['Target']\n",
    "X2_train, X2_test, y2_train, y2_test = train_test_split(X2, y2, test_size=0.2, random_state=65)\n",
    "\n",
    "# Оценка модели на тестовой выборке\n",
    "predict2 = model.predict(X2_test)\n",
    "\n",
    "predict2\n"
   ]
  },
  {
   "cell_type": "code",
   "execution_count": 121,
   "id": "e21b8a99-573f-46fe-9139-e13127fa98d4",
   "metadata": {},
   "outputs": [
    {
     "name": "stdout",
     "output_type": "stream",
     "text": [
      "55.17355289273208 6.311053314683058 -0.02078728756211068 6.887526738632987\n"
     ]
    }
   ],
   "source": [
    "# Расчет метрик для второго датасета\n",
    "mse2 = mean_squared_error(y2_test, predict2) # Среднеквадратичная ошибка, показывает, насколько хорошо предсказаны значения, но не учитывает размер ошибки\n",
    "mae2 = mean_absolute_error(y2_test, predict2) # Средняя абсолютная ошибка (более чувствительна к выбросам)\n",
    "r2_2 = r2_score(y2_test, predict2) # коэффициент детерминации показывает, какая доля дисперсии зависимой переменной объясняется моделью\n",
    "rmse2 = np.sqrt(mse) # кв корень из MSE, более интерпретируемый, поскольку он выражается в тех же единицах, что и таргет\n",
    "print(mse2, mae2, r2_2, rmse2)"
   ]
  },
  {
   "cell_type": "code",
   "execution_count": 122,
   "id": "2e2f3959-b3b6-4314-8c25-c059c938c4f3",
   "metadata": {},
   "outputs": [
    {
     "data": {
      "text/plain": [
       "array([37.23290877, 37.23290877, 37.04968326, 37.32452153, 37.11075843,\n",
       "       37.66043496, 37.41613428, 37.47720945, 37.32452153, 37.11075843,\n",
       "       37.69097255, 37.1718336 , 37.23290877, 37.66043496, 37.14129601,\n",
       "       37.59935979, 37.32452153, 37.01914567, 37.72151013, 37.56882221])"
      ]
     },
     "execution_count": 122,
     "metadata": {},
     "output_type": "execute_result"
    }
   ],
   "source": [
    "# Разделение третьего на обучающую и тестовую выборку\n",
    "X3 = df3.drop('Target', axis=1)\n",
    "y3 = df3['Target']\n",
    "X3_train, X3_test, y3_train, y3_test = train_test_split(X3, y3, test_size=0.2, random_state=53)\n",
    "\n",
    "# Оценка модели на тестовой выборке\n",
    "predict3 = model.predict(X3_test)\n",
    "\n",
    "predict3\n"
   ]
  },
  {
   "cell_type": "code",
   "execution_count": 123,
   "id": "1bf210f7-56c7-4216-9fa4-81ecaee99e7c",
   "metadata": {},
   "outputs": [
    {
     "name": "stdout",
     "output_type": "stream",
     "text": [
      "40.01952040140473 5.2229038614141015 0.03211753065107359 6.887526738632987\n"
     ]
    }
   ],
   "source": [
    "# Расчет метрик для второго датасета\n",
    "mse3 = mean_squared_error(y3_test, predict3) # Среднеквадратичная ошибка, показывает, насколько хорошо предсказаны значения, но не учитывает размер ошибки\n",
    "mae3 = mean_absolute_error(y3_test, predict3) # Средняя абсолютная ошибка (более чувствительна к выбросам)\n",
    "r2_3 = r2_score(y3_test, predict3) # коэффициент детерминации показывает, какая доля дисперсии зависимой переменной объясняется моделью\n",
    "rmse3 = np.sqrt(mse) # кв корень из MSE, более интерпретируемый, поскольку он выражается в тех же единицах, что и таргет\n",
    "print(mse3, mae3, r2_3, rmse3)"
   ]
  },
  {
   "cell_type": "code",
   "execution_count": 124,
   "id": "21914446-2d30-4954-a4be-4dffed240ba0",
   "metadata": {},
   "outputs": [
    {
     "data": {
      "text/plain": [
       "array([35.58387917, 34.66775161, 36.43893155, 34.51506368, 34.85097712,\n",
       "       36.89699533, 36.98860809, 36.68323224, 36.40839397, 35.18689056,\n",
       "       35.95033019, 35.91979261, 37.32452153, 36.80538258, 36.86645775,\n",
       "       34.72882678, 37.23290877, 36.3473188 , 35.18689056, 37.14129601])"
      ]
     },
     "execution_count": 124,
     "metadata": {},
     "output_type": "execute_result"
    }
   ],
   "source": [
    "# Разделение датасета с шумами на тестовую и обучающую выборку\n",
    "X_N = df_noise.drop('Target', axis=1)\n",
    "y_N = df_noise['Target']\n",
    "Xn_train, Xn_test, yn_train, yn_test = train_test_split(X_N, y_N, test_size=0.2, random_state=67)\n",
    "\n",
    "# Оценка модели на тестовой выборке\n",
    "predictN = model.predict(Xn_test)\n",
    "\n",
    "predictN\n"
   ]
  },
  {
   "cell_type": "code",
   "execution_count": 125,
   "id": "87752c50-3e88-4028-b4be-d937ee07c3a2",
   "metadata": {},
   "outputs": [
    {
     "name": "stdout",
     "output_type": "stream",
     "text": [
      "2492.377506602029 40.920618754287105 -1.602223882230692 6.887526738632987\n"
     ]
    }
   ],
   "source": [
    "# Расчет метрик для второго датасета\n",
    "mseN = mean_squared_error(yn_test, predictN) # Среднеквадратичная ошибка, показывает, насколько хорошо предсказаны значения, но не учитывает размер ошибки\n",
    "maeN = mean_absolute_error(yn_test, predictN) # Средняя абсолютная ошибка (более чувствительна к выбросам)\n",
    "r2_N = r2_score(yn_test, predictN) # коэффициент детерминации показывает, какая доля дисперсии зависимой переменной объясняется моделью\n",
    "rmseN = np.sqrt(mse) # кв корень из MSE, более интерпретируемый, поскольку он выражается в тех же единицах, что и таргет\n",
    "print(mseN, maeN, r2_N, rmseN)"
   ]
  },
  {
   "cell_type": "code",
   "execution_count": 126,
   "id": "fd444146-90c4-435b-a12f-228d7b9667c8",
   "metadata": {},
   "outputs": [],
   "source": [
    "ipytest.autoconfig()"
   ]
  },
  {
   "cell_type": "code",
   "execution_count": 127,
   "id": "303114a1-b9aa-44a6-98c5-2ab9f134fdb7",
   "metadata": {},
   "outputs": [],
   "source": [
    "# Тестирование функции generate_normal_data\n",
    "def test_generate_normal_data():\n",
    "    base = 20\n",
    "    x = 10\n",
    "    result = generate_normal_data(base, x)\n",
    "    assert isinstance(result, np.ndarray) #Функция должна возвращать массив NumPy\n",
    "    assert len(result) == x # Длина результата должна соответствовать количеству измерений\n"
   ]
  },
  {
   "cell_type": "code",
   "execution_count": 128,
   "id": "8d8a9c15-5e43-4779-9cbc-2cf7ef6b464e",
   "metadata": {},
   "outputs": [],
   "source": [
    "# Тестирование функции generate_noise_data\n",
    "def test_generate_noise_data():\n",
    "    base = 20\n",
    "    x = 10\n",
    "    result = generate_noise_data(base, x)\n",
    "    assert isinstance(result, np.ndarray) # Функция должна возвращать массив NumPy\n",
    "    assert len(result) == x # Длина результата должна соответствовать количеству измерений"
   ]
  },
  {
   "cell_type": "code",
   "execution_count": 129,
   "id": "0f236df6-660c-49b2-b755-4ca7ffe1255d",
   "metadata": {},
   "outputs": [],
   "source": [
    "# Тестирование обучения модели линейной регрессии\n",
    "def test_linear_regression_training():\n",
    "    # Предполагаем, что данные уже подготовлены и разделены на обучающую и тестовую выборки\n",
    "    model = LinearRegression()\n",
    "    model.fit(X_train, y_train)\n",
    "    assert model.coef_.size > 0 # Модель должна обучиться и иметь коэффициенты "
   ]
  },
  {
   "cell_type": "code",
   "execution_count": 130,
   "id": "c2fd6bd8-479d-4c98-b22c-fea46823943a",
   "metadata": {},
   "outputs": [],
   "source": [
    "# Тестирование оценки модели на тестовой выборке\n",
    "def test_linear_regression_prediction():\n",
    "    prediction = model.predict(X_test)\n",
    "    assert isinstance(prediction, np.ndarray) # Предсказания должны быть массивом NumPy\"\n",
    "    assert len(prediction) == len(X_test) # Длина предсказаний должна соответствовать длине тестовой выборки"
   ]
  },
  {
   "cell_type": "code",
   "execution_count": 149,
   "id": "f9ec8e92-727f-42db-87b3-71614c519d36",
   "metadata": {},
   "outputs": [],
   "source": [
    "# проверяем первый датасет\n",
    "def test_df1():\n",
    "    X = df1.drop('Target', axis=1)\n",
    "    y = df1['Target']\n",
    "    X_train, X_test, y_train, y_test = train_test_split(X, y, test_size=0.2, random_state=58)\n",
    "    prediction = model.predict(X_test)\n",
    "    mse = mean_squared_error(y_test, prediction)\n",
    "    assert mse < 100 # тест должен пройти"
   ]
  },
  {
   "cell_type": "code",
   "execution_count": 151,
   "id": "19bfdcc3-da81-4ede-9c00-03cf1cb7c01d",
   "metadata": {},
   "outputs": [],
   "source": [
    "# проверяем второй датасет\n",
    "def test_df2():\n",
    "    X2 = df2.drop('Target', axis=1)\n",
    "    y2 = df2['Target']\n",
    "    X2_train, X2_test, y2_train, y2_test = train_test_split(X2, y2, test_size=0.2, random_state=65)\n",
    "    predict2 = model.predict(X2_test)\n",
    "    mse2 = mean_squared_error(y2_test, predict2)\n",
    "    assert mse < 100 # тест должен пройти"
   ]
  },
  {
   "cell_type": "code",
   "execution_count": 153,
   "id": "088633a6-0d00-4cf7-bc31-a20fbba5d37c",
   "metadata": {},
   "outputs": [],
   "source": [
    "# проверяем третий датасет\n",
    "def test_df3():\n",
    "    X3 = df3.drop('Target', axis=1)\n",
    "    y3 = df3['Target']\n",
    "    X3_train, X3_test, y3_train, y3_test = train_test_split(X3, y3, test_size=0.2, random_state=53)\n",
    "    predict3 = model.predict(X3_test)\n",
    "    mse3 = mean_squared_error(y3_test, predict3)\n",
    "    assert mse < 100 # тест должен пройти"
   ]
  },
  {
   "cell_type": "code",
   "execution_count": 156,
   "id": "5c59b59d-4be3-45ba-976c-07df2491c21a",
   "metadata": {},
   "outputs": [],
   "source": [
    "def test_model_on_noisy_features():\n",
    "    X_N = df_noise.drop('Target', axis=1)\n",
    "    y_N = df_noise['Target']\n",
    "    Xn_train, Xn_test, yn_train, yn_test = train_test_split(X_N, y_N, test_size=0.2, random_state=67)\n",
    "    predictionN = model.predict(Xn_test)\n",
    "    mse = mean_squared_error(yn_test, predictN)\n",
    "    assert mse < 100 # тест  не должен пройти, так как среднеквадратичная ошибка слишком большая \n",
    "    #(слишком большое отколение от значений mse других датасетов)"
   ]
  },
  {
   "cell_type": "code",
   "execution_count": 141,
   "id": "74c09d7c-5e3d-4330-89ae-3dccac33ac96",
   "metadata": {},
   "outputs": [],
   "source": [
    "def test_model_on_noisy_features():\n",
    "    X_N = df_noise.drop('Target', axis=1)\n",
    "    y_N = df_noise['Target']\n",
    "    Xn_train, Xn_test, yn_train, yn_test = train_test_split(X_N, y_N, test_size=0.2, random_state=67)\n",
    "    predictionN = model.predict(Xn_test)\n",
    "    mse = mean_squared_error(yn_test, predictN)\n",
    "    assert mse > 100 # тест должен пройти"
   ]
  },
  {
   "cell_type": "code",
   "execution_count": 157,
   "id": "1b654bb8-dfb5-44b4-8a46-40dc8ede8696",
   "metadata": {},
   "outputs": [
    {
     "name": "stdout",
     "output_type": "stream",
     "text": [
      "\u001b[32m.\u001b[0m\u001b[32m.\u001b[0m\u001b[32m.\u001b[0m\u001b[32m.\u001b[0m\u001b[31mF\u001b[0m\u001b[32m.\u001b[0m\u001b[32m.\u001b[0m\u001b[32m.\u001b[0m\u001b[31m                                                                                     [100%]\u001b[0m\n",
      "============================================ FAILURES =============================================\n",
      "\u001b[31m\u001b[1m__________________________________ test_model_on_noisy_features ___________________________________\u001b[0m\n",
      "\n",
      "    \u001b[94mdef\u001b[39;49;00m \u001b[92mtest_model_on_noisy_features\u001b[39;49;00m():\u001b[90m\u001b[39;49;00m\n",
      "        X_N = df_noise.drop(\u001b[33m'\u001b[39;49;00m\u001b[33mTarget\u001b[39;49;00m\u001b[33m'\u001b[39;49;00m, axis=\u001b[94m1\u001b[39;49;00m)\u001b[90m\u001b[39;49;00m\n",
      "        y_N = df_noise[\u001b[33m'\u001b[39;49;00m\u001b[33mTarget\u001b[39;49;00m\u001b[33m'\u001b[39;49;00m]\u001b[90m\u001b[39;49;00m\n",
      "        Xn_train, Xn_test, yn_train, yn_test = train_test_split(X_N, y_N, test_size=\u001b[94m0.2\u001b[39;49;00m, random_state=\u001b[94m67\u001b[39;49;00m)\u001b[90m\u001b[39;49;00m\n",
      "        predictionN = model.predict(Xn_test)\u001b[90m\u001b[39;49;00m\n",
      "        mse = mean_squared_error(yn_test, predictN)\u001b[90m\u001b[39;49;00m\n",
      ">       \u001b[94massert\u001b[39;49;00m mse < \u001b[94m100\u001b[39;49;00m \u001b[90m# тест  не должен пройти, так как среднеквадратичная ошибка слишком большая\u001b[39;49;00m\u001b[90m\u001b[39;49;00m\n",
      "\u001b[1m\u001b[31mE       assert 2492.377506602029 < 100\u001b[0m\n",
      "\n",
      "\u001b[1m\u001b[31mC:\\Users\\Natalia\\AppData\\Local\\Temp\\ipykernel_13584\\997316548.py\u001b[0m:7: AssertionError\n",
      "\u001b[33m======================================== warnings summary =========================================\u001b[0m\n",
      "t_efb4a15597a848379065c47991a892e5.py::test_linear_regression_training\n",
      "t_efb4a15597a848379065c47991a892e5.py::test_linear_regression_prediction\n",
      "t_efb4a15597a848379065c47991a892e5.py::test_model_on_noisy_features\n",
      "t_efb4a15597a848379065c47991a892e5.py::test_df1\n",
      "t_efb4a15597a848379065c47991a892e5.py::test_df2\n",
      "t_efb4a15597a848379065c47991a892e5.py::test_df3\n",
      "  C:\\Users\\Natalia\\anaconda3\\Lib\\site-packages\\pandas\\core\\algorithms.py:1814: DeprecationWarning: is_sparse is deprecated and will be removed in a future version. Check `isinstance(dtype, pd.SparseDtype)` instead.\n",
      "    return lib.map_infer(values, mapper, convert=convert)\n",
      "\n",
      "t_efb4a15597a848379065c47991a892e5.py: 11 warnings\n",
      "  C:\\Users\\Natalia\\anaconda3\\Lib\\site-packages\\sklearn\\utils\\validation.py:605: DeprecationWarning: is_sparse is deprecated and will be removed in a future version. Check `isinstance(dtype, pd.SparseDtype)` instead.\n",
      "    if is_sparse(pd_dtype):\n",
      "\n",
      "t_efb4a15597a848379065c47991a892e5.py: 11 warnings\n",
      "  C:\\Users\\Natalia\\anaconda3\\Lib\\site-packages\\sklearn\\utils\\validation.py:614: DeprecationWarning: is_sparse is deprecated and will be removed in a future version. Check `isinstance(dtype, pd.SparseDtype)` instead.\n",
      "    if is_sparse(pd_dtype) or not is_extension_array_dtype(pd_dtype):\n",
      "\n",
      "-- Docs: https://docs.pytest.org/en/stable/how-to/capture-warnings.html\n",
      "\u001b[36m\u001b[1m===================================== short test summary info =====================================\u001b[0m\n",
      "\u001b[31mFAILED\u001b[0m t_efb4a15597a848379065c47991a892e5.py::\u001b[1mtest_model_on_noisy_features\u001b[0m - assert 2492.377506602029 < 100\n",
      "\u001b[31m\u001b[31m\u001b[1m1 failed\u001b[0m, \u001b[32m7 passed\u001b[0m, \u001b[33m28 warnings\u001b[0m\u001b[31m in 0.05s\u001b[0m\u001b[0m\n"
     ]
    },
    {
     "data": {
      "text/plain": [
       "<ExitCode.TESTS_FAILED: 1>"
      ]
     },
     "execution_count": 157,
     "metadata": {},
     "output_type": "execute_result"
    }
   ],
   "source": [
    "ipytest.run()\n"
   ]
  },
  {
   "cell_type": "code",
   "execution_count": null,
   "id": "b8bcca4c-9879-4fcd-a6ef-bb18ef891270",
   "metadata": {},
   "outputs": [],
   "source": []
  }
 ],
 "metadata": {
  "kernelspec": {
   "display_name": "Python 3 (ipykernel)",
   "language": "python",
   "name": "python3"
  },
  "language_info": {
   "codemirror_mode": {
    "name": "ipython",
    "version": 3
   },
   "file_extension": ".py",
   "mimetype": "text/x-python",
   "name": "python",
   "nbconvert_exporter": "python",
   "pygments_lexer": "ipython3",
   "version": "3.11.7"
  }
 },
 "nbformat": 4,
 "nbformat_minor": 5
}
